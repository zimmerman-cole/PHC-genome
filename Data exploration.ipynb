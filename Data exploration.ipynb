{
 "cells": [
  {
   "cell_type": "code",
   "execution_count": 1,
   "metadata": {},
   "outputs": [
    {
     "data": {
      "text/html": [
       "<div>\n",
       "<style scoped>\n",
       "    .dataframe tbody tr th:only-of-type {\n",
       "        vertical-align: middle;\n",
       "    }\n",
       "\n",
       "    .dataframe tbody tr th {\n",
       "        vertical-align: top;\n",
       "    }\n",
       "\n",
       "    .dataframe thead th {\n",
       "        text-align: right;\n",
       "    }\n",
       "</style>\n",
       "<table border=\"1\" class=\"dataframe\">\n",
       "  <thead>\n",
       "    <tr style=\"text-align: right;\">\n",
       "      <th></th>\n",
       "      <th>population</th>\n",
       "      <th>Geographic origin</th>\n",
       "      <th>Region</th>\n",
       "      <th>Pop7Groups</th>\n",
       "      <th>Sex</th>\n",
       "      <th>All LCLs (H1063)</th>\n",
       "      <th>Unrelated (1st and 2nd degree) (H951)</th>\n",
       "    </tr>\n",
       "    <tr>\n",
       "      <th>CEPH ID</th>\n",
       "      <th></th>\n",
       "      <th></th>\n",
       "      <th></th>\n",
       "      <th></th>\n",
       "      <th></th>\n",
       "      <th></th>\n",
       "      <th></th>\n",
       "    </tr>\n",
       "  </thead>\n",
       "  <tbody>\n",
       "    <tr>\n",
       "      <th>HGDP00001</th>\n",
       "      <td>Brahui</td>\n",
       "      <td>Pakistan</td>\n",
       "      <td>Asia</td>\n",
       "      <td>Central_South_Asia</td>\n",
       "      <td>M</td>\n",
       "      <td>yes</td>\n",
       "      <td>yes</td>\n",
       "    </tr>\n",
       "    <tr>\n",
       "      <th>HGDP00003</th>\n",
       "      <td>Brahui</td>\n",
       "      <td>Pakistan</td>\n",
       "      <td>Asia</td>\n",
       "      <td>Central_South_Asia</td>\n",
       "      <td>M</td>\n",
       "      <td>yes</td>\n",
       "      <td>yes</td>\n",
       "    </tr>\n",
       "    <tr>\n",
       "      <th>HGDP00005</th>\n",
       "      <td>Brahui</td>\n",
       "      <td>Pakistan</td>\n",
       "      <td>Asia</td>\n",
       "      <td>Central_South_Asia</td>\n",
       "      <td>M</td>\n",
       "      <td>yes</td>\n",
       "      <td>yes</td>\n",
       "    </tr>\n",
       "    <tr>\n",
       "      <th>HGDP00007</th>\n",
       "      <td>Brahui</td>\n",
       "      <td>Pakistan</td>\n",
       "      <td>Asia</td>\n",
       "      <td>Central_South_Asia</td>\n",
       "      <td>M</td>\n",
       "      <td>yes</td>\n",
       "      <td>yes</td>\n",
       "    </tr>\n",
       "    <tr>\n",
       "      <th>HGDP00009</th>\n",
       "      <td>Brahui</td>\n",
       "      <td>Pakistan</td>\n",
       "      <td>Asia</td>\n",
       "      <td>Central_South_Asia</td>\n",
       "      <td>M</td>\n",
       "      <td>yes</td>\n",
       "      <td>yes</td>\n",
       "    </tr>\n",
       "  </tbody>\n",
       "</table>\n",
       "</div>"
      ],
      "text/plain": [
       "          population Geographic origin Region          Pop7Groups Sex  \\\n",
       "CEPH ID                                                                 \n",
       "HGDP00001     Brahui          Pakistan   Asia  Central_South_Asia   M   \n",
       "HGDP00003     Brahui          Pakistan   Asia  Central_South_Asia   M   \n",
       "HGDP00005     Brahui          Pakistan   Asia  Central_South_Asia   M   \n",
       "HGDP00007     Brahui          Pakistan   Asia  Central_South_Asia   M   \n",
       "HGDP00009     Brahui          Pakistan   Asia  Central_South_Asia   M   \n",
       "\n",
       "          All LCLs (H1063) Unrelated (1st and 2nd degree) (H951)  \n",
       "CEPH ID                                                           \n",
       "HGDP00001              yes                                   yes  \n",
       "HGDP00003              yes                                   yes  \n",
       "HGDP00005              yes                                   yes  \n",
       "HGDP00007              yes                                   yes  \n",
       "HGDP00009              yes                                   yes  "
      ]
     },
     "execution_count": 1,
     "metadata": {},
     "output_type": "execute_result"
    }
   ],
   "source": [
    "import pandas as pd\n",
    "import matplotlib.pyplot as plt\n",
    "import numpy as np\n",
    "from collections import defaultdict\n",
    "from sklearn.decomposition import PCA\n",
    "from sklearn.manifold import TSNE\n",
    "\n",
    "y_data = pd.read_csv('HGDP/hgdp/HGDP-CEPH-ID_populations.csv')\n",
    "y_data = y_data.set_index('CEPH ID')\n",
    "y_data.head()"
   ]
  },
  {
   "cell_type": "code",
   "execution_count": 2,
   "metadata": {},
   "outputs": [
    {
     "data": {
      "image/png": "[encoded data removed]",
      "text/plain": [
       "<Figure size 576x576 with 1 Axes>"
      ]
     },
     "metadata": {},
     "output_type": "display_data"
    }
   ],
   "source": [
    "regions, counts = np.unique(y_data['Region'].values, return_counts=True)\n",
    "\n",
    "f, ax = plt.subplots(figsize=(8, 8))\n",
    "ax.bar(regions, counts)\n",
    "plt.tight_layout()\n",
    "plt.show()"
   ]
  },
  {
   "cell_type": "markdown",
   "metadata": {},
   "source": [
    "# X data"
   ]
  },
  {
   "cell_type": "code",
   "execution_count": 3,
   "metadata": {},
   "outputs": [],
   "source": [
    "n = 1043\n",
    "col_names = []\n",
    "\n",
    "X = pd.read_csv('data/part=0_dsize=1000.csv')\n",
    "# print(X.columns)\n",
    "\n",
    "for part in range(1, 3):\n",
    "    X_part = pd.read_csv('data/part=%d_dsize=1000.csv' % part)\n",
    "#     print(X_part.columns)\n",
    "    X = X.merge(X_part)\n",
    "    \n",
    "X = X.rename({'Unnamed: 0': 'CEPH ID'}, axis='columns')\n",
    "X = X.set_index('CEPH ID')\n",
    "X['Region'] = pd.Series(['?' for _ in range(len(X))], index=X.index)"
   ]
  },
  {
   "cell_type": "code",
   "execution_count": 4,
   "metadata": {},
   "outputs": [],
   "source": [
    "for idx in X.index:\n",
    "    try:\n",
    "        X['Region'] = y_data['Region']\n",
    "    except KeyError:\n",
    "        pass"
   ]
  },
  {
   "cell_type": "markdown",
   "metadata": {},
   "source": [
    "# Visualize with PCA"
   ]
  },
  {
   "cell_type": "code",
   "execution_count": 11,
   "metadata": {},
   "outputs": [],
   "source": [
    "X_array = X.values[:, :-1].astype(float)\n",
    "pca = PCA(n_components=2)\n",
    "X_pca = pca.fit_transform(X_array)\n",
    "\n"
   ]
  },
  {
   "cell_type": "code",
   "execution_count": 30,
   "metadata": {},
   "outputs": [
    {
     "name": "stdout",
     "output_type": "stream",
     "text": [
      "['Subsaharan Africa' 'North Africa' 'Middle East' 'Asia' nan 'Oceania'\n",
      " 'Europe' 'America']\n"
     ]
    },
    {
     "data": {
      "image/png": "[encoded data removed]",
      "text/plain": [
       "<Figure size 432x288 with 1 Axes>"
      ]
     },
     "metadata": {},
     "output_type": "display_data"
    }
   ],
   "source": [
    "print(X['Region'].unique())\n",
    "clrs = dict(zip(\n",
    "    X['Region'].unique(), \n",
    "    ['red', 'blue', 'black', 'brown', 'green', 'orange', 'cyan', 'yellow']\n",
    "))\n",
    "            \n",
    "f, ax = plt.subplots()\n",
    "for region in X['Region'].unique():\n",
    "    if str(region) == 'nan': \n",
    "        continue\n",
    "    idx_reg = np.where(X['Region'] == region)\n",
    "    points = X_pca[idx_reg, :].squeeze()\n",
    "    xs, ys = points[:, 0], points[:, 1]\n",
    "    \n",
    "    ax.scatter(xs, ys, c=clrs[region], label=region)\n",
    "    \n",
    "ax.legend(loc='center left', bbox_to_anchor=(1., 0.5))\n",
    "plt.show()"
   ]
  },
  {
   "cell_type": "markdown",
   "metadata": {},
   "source": [
    "# Visualize with t-SNE"
   ]
  },
  {
   "cell_type": "code",
   "execution_count": null,
   "metadata": {},
   "outputs": [],
   "source": [
    "tsne = TSNE()\n",
    "X_tsne = tsne.fit_transform(X_array)\n",
    "\n",
    "f, ax = plt.subplots()\n",
    "for region in X['Region'].unique():\n",
    "    if str(region) == 'nan': \n",
    "        continue\n",
    "    idx_reg = np.where(X['Region'] == region)\n",
    "    points = X_tsne[idx_reg, :].squeeze()\n",
    "    xs, ys = points[:, 0], points[:, 1]\n",
    "    \n",
    "    ax.scatter(xs, ys, c=clrs[region], label=region)\n",
    "    \n",
    "ax.legend(loc='center left', bbox_to_anchor=(1., 0.5))\n",
    "plt.show()"
   ]
  }
 ],
 "metadata": {
  "kernelspec": {
   "display_name": "Python 3",
   "language": "python",
   "name": "python3"
  },
  "language_info": {
   "codemirror_mode": {
    "name": "ipython",
    "version": 3
   },
   "file_extension": ".py",
   "mimetype": "text/x-python",
   "name": "python",
   "nbconvert_exporter": "python",
   "pygments_lexer": "ipython3",
   "version": "3.5.2"
  },
  "varInspector": {
   "cols": {
    "lenName": 16,
    "lenType": 16,
    "lenVar": 40
   },
   "kernels_config": {
    "python": {
     "delete_cmd_postfix": "",
     "delete_cmd_prefix": "del ",
     "library": "var_list.py",
     "varRefreshCmd": "print(var_dic_list())"
    },
    "r": {
     "delete_cmd_postfix": ") ",
     "delete_cmd_prefix": "rm(",
     "library": "var_list.r",
     "varRefreshCmd": "cat(var_dic_list()) "
    }
   },
   "types_to_exclude": [
    "module",
    "function",
    "builtin_function_or_method",
    "instance",
    "_Feature"
   ],
   "window_display": false
  }
 },
 "nbformat": 4,
 "nbformat_minor": 2
}
