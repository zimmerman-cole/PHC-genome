{
 "cells": [
  {
   "cell_type": "code",
   "execution_count": 6,
   "metadata": {},
   "outputs": [],
   "source": [
    "import matplotlib.pyplot as plt\n",
    "import numpy as np\n",
    "from scipy.special import gamma\n",
    "import pandas as pd\n",
    "from tqdm import tqdm\n",
    "\n",
    "from src.binomial import BetaBinomial, BBN\n",
    "\n",
    "data = pd.read_csv('reduced_data.csv').set_index('CEPH ID')"
   ]
  },
  {
   "cell_type": "code",
   "execution_count": 24,
   "metadata": {},
   "outputs": [
    {
     "data": {
      "text/plain": [
       "Index(['population', 'Geographic origin', 'Region', 'Pop7Groups', 'Sex'], dtype='object')"
      ]
     },
     "execution_count": 24,
     "metadata": {},
     "output_type": "execute_result"
    }
   ],
   "source": [
    "X = data.values[:, :1000].astype(np.int8)\n",
    "y = data.values[:, 1000:]\n",
    "\n",
    "\n",
    "ix = [i for i in range(X.shape[0]) if 'Israel' in data['Geographic origin'].values[i]]\n",
    "y[ix]\n",
    "data.columns[1000:]"
   ]
  },
  {
   "cell_type": "code",
   "execution_count": 2,
   "metadata": {},
   "outputs": [
    {
     "name": "stderr",
     "output_type": "stream",
     "text": [
      "100%|██████████| 209/209 [00:12<00:00,  8.69it/s]\n"
     ]
    }
   ],
   "source": [
    "model = BBN(3., 3., include_MLE=True)\n",
    "\n",
    "D = data.values[:, :1000].astype(np.int8)\n",
    "\n",
    "results = []\n",
    "\n",
    "for N in tqdm(range(1, D.shape[0], 5)):\n",
    "    r_N = []\n",
    "    for _ in range(max(3, 40 - N)):\n",
    "        Dr = D[np.random.choice(D.shape[0], replace=True, size=N)]\n",
    "        r_N.append(model.log_marginal_likelihood(Dr))\n",
    "    results.append(r_N)\n",
    "    \n",
    "results = list(map(lambda v: np.mean(v), results))"
   ]
  },
  {
   "cell_type": "code",
   "execution_count": 3,
   "metadata": {},
   "outputs": [
    {
     "data": {
      "image/png": "[encoded data removed]",
      "text/plain": [
       "<Figure size 432x288 with 1 Axes>"
      ]
     },
     "metadata": {},
     "output_type": "display_data"
    }
   ],
   "source": [
    "# norms = np.array(list(range(1, D.shape[0], 5)))\n",
    "# norms = -np.log(norms)\n",
    "\n",
    "plt.plot(range(len(results)), results)\n",
    "plt.show()"
   ]
  },
  {
   "cell_type": "code",
   "execution_count": 3,
   "metadata": {},
   "outputs": [],
   "source": [
    "class Leaf(object):\n",
    "    \n",
    "    def __init__(self, alpha):\n",
    "        self.d = alpha\n",
    "        self.N = 1\n",
    "        self.pi = 1.\n",
    "        \n",
    "class Node(object):\n",
    "    \n",
    "    def __init__(self, left, right, alpha):\n",
    "        self.N = left.N + right.N\n",
    "        self.d = alpha * gamma(self.N) + left.d * right.d\n",
    "        self.pi = alpha * gamma(self.N) / self.d"
   ]
  },
  {
   "cell_type": "code",
   "execution_count": 4,
   "metadata": {},
   "outputs": [
    {
     "name": "stdout",
     "output_type": "stream",
     "text": [
      "1.0 0.6666666666666666\n",
      "0.8421052631578947\n",
      "0.7272727272727273\n",
      "0.8707482993197279\n"
     ]
    }
   ],
   "source": [
    "alpha = 0.5\n",
    "leaf = lambda: Leaf(alpha)\n",
    "node1_1 = lambda: Node(leaf(), leaf(), alpha)\n",
    "node2_2 = lambda: Node(node1_1(), node1_1(), alpha)\n",
    "node1_3 = lambda: Node(node1_1(), leaf(), alpha)\n",
    "\n",
    "print(leaf().pi, node1_1().pi)\n",
    "print(node2_2().pi)\n",
    "print(node1_3().pi)\n",
    "\n",
    "print(Node(node2_2(), leaf(), alpha).pi)"
   ]
  }
 ],
 "metadata": {
  "kernelspec": {
   "display_name": "Python 3",
   "language": "python",
   "name": "python3"
  },
  "language_info": {
   "codemirror_mode": {
    "name": "ipython",
    "version": 3
   },
   "file_extension": ".py",
   "mimetype": "text/x-python",
   "name": "python",
   "nbconvert_exporter": "python",
   "pygments_lexer": "ipython3",
   "version": "3.5.2"
  },
  "varInspector": {
   "cols": {
    "lenName": 16,
    "lenType": 16,
    "lenVar": 40
   },
   "kernels_config": {
    "python": {
     "delete_cmd_postfix": "",
     "delete_cmd_prefix": "del ",
     "library": "var_list.py",
     "varRefreshCmd": "print(var_dic_list())"
    },
    "r": {
     "delete_cmd_postfix": ") ",
     "delete_cmd_prefix": "rm(",
     "library": "var_list.r",
     "varRefreshCmd": "cat(var_dic_list()) "
    }
   },
   "types_to_exclude": [
    "module",
    "function",
    "builtin_function_or_method",
    "instance",
    "_Feature"
   ],
   "window_display": false
  }
 },
 "nbformat": 4,
 "nbformat_minor": 2
}
