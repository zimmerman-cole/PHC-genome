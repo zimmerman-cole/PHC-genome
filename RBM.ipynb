{
 "cells": [
  {
   "cell_type": "markdown",
   "metadata": {},
   "source": [
    "# Imports, load data"
   ]
  },
  {
   "cell_type": "code",
   "execution_count": 1,
   "metadata": {},
   "outputs": [],
   "source": [
    "import pandas as pd\n",
    "import numpy as np\n",
    "from scipy.special import logsumexp\n",
    "from tqdm import tqdm\n",
    "from ipywidgets import IntProgress\n",
    "from IPython.display import display, clear_output\n",
    "import matplotlib.pyplot as plt\n",
    "from collections import defaultdict\n",
    "\n",
    "import torch\n",
    "import torch.nn as nn\n",
    "import torch.optim as optim\n",
    "from torch.autograd import Variable\n",
    "\n",
    "from src.RBM import RBM, DRBM\n",
    "from src.utils import one_hot_encode\n",
    "from src.data import DataLoader\n",
    "\n",
    "\n",
    "# data = pd.read_csv('reduced_data.csv').set_index('CEPH ID')\n",
    "\n",
    "data_loader = DataLoader()\n",
    "num_data = data_loader.num_data\n",
    "num_dims = data_loader.num_dims\n",
    "num_targets = data_loader.num_targets\n",
    "\n",
    "# data = data.replace(to_replace=2, value=1)"
   ]
  },
  {
   "cell_type": "code",
   "execution_count": 2,
   "metadata": {},
   "outputs": [],
   "source": [
    "%load_ext autoreload\n",
    "%autoreload 2"
   ]
  },
  {
   "cell_type": "code",
   "execution_count": 3,
   "metadata": {
    "code_folding": []
   },
   "outputs": [],
   "source": [
    "# X = data.values[:, :1000].astype(np.int8)\n",
    "# y = data.values[:, -2]\n",
    "\n",
    "# Y, y_keys = one_hot_encode(y)\n",
    "\n",
    "# # to_delete = np.argwhere(np.isclose(X.mean(axis=0), 1))\n",
    "# # X = np.delete(X, obj=to_delete, axis=1)\n",
    "\n",
    "# X = 0.5 * X"
   ]
  },
  {
   "cell_type": "markdown",
   "metadata": {},
   "source": [
    "# Run mine"
   ]
  },
  {
   "cell_type": "code",
   "execution_count": 4,
   "metadata": {
    "code_folding": [
     2,
     13,
     16
    ]
   },
   "outputs": [],
   "source": [
    "class SimpleClassifier(nn.Module):\n",
    "    \n",
    "    def __init__(self, in_size, out_size):\n",
    "        super(SimpleClassifier, self).__init__()\n",
    "        \n",
    "        self.in_size = in_size\n",
    "        self.out_size = out_size\n",
    "        \n",
    "        self.model = nn.Sequential()\n",
    "        self.model.add_module(\n",
    "            \"linear\", nn.Linear(in_size, out_size)\n",
    "        )\n",
    "        \n",
    "    def forward(self, x):\n",
    "        return self.model(x)\n",
    "    \n",
    "    def probs(self, x):\n",
    "        scores = self.model(x).numpy()\n",
    "        probs = np.exp(scores)\n",
    "        probs /= probs.sum()\n",
    "        return probs\n",
    "    \n",
    "    def train(self, X, y, num_epochs=20, batch_size=20):\n",
    "        loss_function = nn.CrossEntropyLoss()\n",
    "        optimizer = optim.Adam(self.parameters(), lr=1e-4)\n",
    "        \n",
    "        num_train = X.shape[0]\n",
    "        num_batches = int(np.ceil(num_train / batch_size))\n",
    "        \n",
    "        stats = np.zeros(num_epochs)\n",
    "        for epoch in num_epochs:\n",
    "            shuf_idx = np.random.choice(num_train, size=num_train, replace=True)\n",
    "            \n",
    "            avg_loss = 0.\n",
    "            for batch_num in range(num_batches):\n",
    "                s = batch_num * batch_size\n",
    "                e = s + batch_size\n",
    "                idx = shuf_idx[s:e]\n",
    "                X_batch = Variable(torch.Tensor(X[idx]))\n",
    "                y_true = Variable(torch.Tensor(y[idx]))\n",
    "                \n",
    "                optimizer.zero_grad()\n",
    "                \n",
    "                y_pred = self(X_batch)\n",
    "                loss = loss_function(y_pred, y_target)\n",
    "                loss.backward()\n",
    "                optimizer.step()\n",
    "                \n",
    "                avg_loss += loss.data\n",
    "                \n",
    "            avg_loss /= num_batches\n",
    "            stats[epoch] = avg_loss\n",
    "            \n",
    "        return stats\n",
    "    \n",
    "pass"
   ]
  },
  {
   "cell_type": "code",
   "execution_count": null,
   "metadata": {
    "code_folding": [
     12,
     20,
     28,
     31,
     34,
     37,
     47
    ]
   },
   "outputs": [
    {
     "data": {
      "application/vnd.jupyter.widget-view+json": {
       "model_id": "b5e9db6b776a42a29eb396c14ca931cc",
       "version_major": 2,
       "version_minor": 0
      },
      "text/plain": [
       "IntProgress(value=0, description='Epo=0', max=53)"
      ]
     },
     "metadata": {},
     "output_type": "display_data"
    },
    {
     "data": {
      "application/vnd.jupyter.widget-view+json": {
       "model_id": "",
       "version_major": 2,
       "version_minor": 0
      },
      "text/plain": [
       "IntProgress(value=0, description='Training classifier...', max=20)"
      ]
     },
     "metadata": {},
     "output_type": "display_data"
    },
    {
     "data": {
      "application/vnd.jupyter.widget-view+json": {
       "model_id": "",
       "version_major": 2,
       "version_minor": 0
      },
      "text/plain": [
       "IntProgress(value=0, description='Training classifier...', max=20)"
      ]
     },
     "metadata": {},
     "output_type": "display_data"
    },
    {
     "data": {
      "application/vnd.jupyter.widget-view+json": {
       "model_id": "",
       "version_major": 2,
       "version_minor": 0
      },
      "text/plain": [
       "IntProgress(value=0, description='Training classifier...', max=20)"
      ]
     },
     "metadata": {},
     "output_type": "display_data"
    },
    {
     "data": {
      "application/vnd.jupyter.widget-view+json": {
       "model_id": "",
       "version_major": 2,
       "version_minor": 0
      },
      "text/plain": [
       "IntProgress(value=0, description='Training classifier...', max=20)"
      ]
     },
     "metadata": {},
     "output_type": "display_data"
    },
    {
     "data": {
      "application/vnd.jupyter.widget-view+json": {
       "model_id": "",
       "version_major": 2,
       "version_minor": 0
      },
      "text/plain": [
       "IntProgress(value=0, description='Training classifier...', max=20)"
      ]
     },
     "metadata": {},
     "output_type": "display_data"
    },
    {
     "data": {
      "application/vnd.jupyter.widget-view+json": {
       "model_id": "",
       "version_major": 2,
       "version_minor": 0
      },
      "text/plain": [
       "IntProgress(value=0, description='Training classifier...', max=20)"
      ]
     },
     "metadata": {},
     "output_type": "display_data"
    },
    {
     "data": {
      "application/vnd.jupyter.widget-view+json": {
       "model_id": "",
       "version_major": 2,
       "version_minor": 0
      },
      "text/plain": [
       "IntProgress(value=0, description='Training classifier...', max=20)"
      ]
     },
     "metadata": {},
     "output_type": "display_data"
    },
    {
     "data": {
      "application/vnd.jupyter.widget-view+json": {
       "model_id": "",
       "version_major": 2,
       "version_minor": 0
      },
      "text/plain": [
       "IntProgress(value=0, description='Training classifier...', max=20)"
      ]
     },
     "metadata": {},
     "output_type": "display_data"
    },
    {
     "data": {
      "application/vnd.jupyter.widget-view+json": {
       "model_id": "",
       "version_major": 2,
       "version_minor": 0
      },
      "text/plain": [
       "IntProgress(value=0, description='Training classifier...', max=20)"
      ]
     },
     "metadata": {},
     "output_type": "display_data"
    },
    {
     "data": {
      "application/vnd.jupyter.widget-view+json": {
       "model_id": "",
       "version_major": 2,
       "version_minor": 0
      },
      "text/plain": [
       "IntProgress(value=0, description='Training classifier...', max=20)"
      ]
     },
     "metadata": {},
     "output_type": "display_data"
    },
    {
     "data": {
      "application/vnd.jupyter.widget-view+json": {
       "model_id": "",
       "version_major": 2,
       "version_minor": 0
      },
      "text/plain": [
       "IntProgress(value=0, description='Training classifier...', max=20)"
      ]
     },
     "metadata": {},
     "output_type": "display_data"
    },
    {
     "data": {
      "application/vnd.jupyter.widget-view+json": {
       "model_id": "",
       "version_major": 2,
       "version_minor": 0
      },
      "text/plain": [
       "IntProgress(value=0, description='Training classifier...', max=20)"
      ]
     },
     "metadata": {},
     "output_type": "display_data"
    },
    {
     "data": {
      "application/vnd.jupyter.widget-view+json": {
       "model_id": "a63e20667e09428c8a6091d37cf5780d",
       "version_major": 2,
       "version_minor": 0
      },
      "text/plain": [
       "IntProgress(value=0, description='Training classifier...', max=20)"
      ]
     },
     "metadata": {},
     "output_type": "display_data"
    }
   ],
   "source": [
    "num_epochs = 5\n",
    "batch_size = 20\n",
    "num_batches = int(np.ceil(num_data / batch_size))\n",
    "\n",
    "num_visible = num_dims\n",
    "num_hidden = 500\n",
    "\n",
    "\n",
    "def train_rbm(\n",
    "    rbm, data_loader, num_epochs, batch_size, jupyter=False, \n",
    "    outer_hooks=[], inner_hooks=[]\n",
    "):\n",
    "    if jupyter:\n",
    "        progress = IntProgress(value=0, max=num_batches, description='Epo=0')\n",
    "        display(progress)\n",
    "\n",
    "    errors = []\n",
    "\n",
    "    for epoch in range(num_epochs):\n",
    "\n",
    "        if jupyter:\n",
    "            progress.value = 0\n",
    "            progress.description = 'Epo=%d' % epoch\n",
    "\n",
    "        for b_num, (x, _) in enumerate(data_loader.load_batches(batch_size)):\n",
    "            g, e = rbm.CD(x, n=1, lr=0.001)\n",
    "            errors.append(e)\n",
    "            \n",
    "            if jupyter:\n",
    "                progress.value += 1\n",
    "                \n",
    "            for hook in inner_hooks:\n",
    "                hook(rbm, epoch, b_num)\n",
    "                \n",
    "        for hook in outer_hooks:\n",
    "            hook(rbm, epoch, 0)\n",
    "\n",
    "    if jupyter:\n",
    "        progress.close()\n",
    "\n",
    "    return rbm, errors\n",
    "\n",
    "\n",
    "class ClassifierResults(object):\n",
    "    \n",
    "    def __init__(\n",
    "        self, data_loader, batch_size, num_epochs, eval_freq=20, jupyter=False\n",
    "    ):\n",
    "        self.data_loader = data_loader\n",
    "        self.batch_size = batch_size\n",
    "        self.num_epochs = num_epochs\n",
    "        self.eval_freq = eval_freq\n",
    "        self.jupyter = jupyter\n",
    "        \n",
    "        self.results = defaultdict(dict)\n",
    "        \n",
    "    \n",
    "    def train_classifier(self, rbm, epoch, b_num):\n",
    "        if (b_num % self.eval_freq) != 0:\n",
    "            return\n",
    "        \n",
    "        in_size = rbm.H\n",
    "        out_size = self.data_loader.num_targets\n",
    "        \n",
    "        classifier = SimpleClassifier(in_size, out_size)\n",
    "        loss_function = nn.CrossEntropyLoss()\n",
    "        optimizer = optim.Adam(classifier.parameters(), lr=1e-4)\n",
    "        \n",
    "        if self.jupyter:\n",
    "            prog = IntProgress(\n",
    "                value=0, max=self.num_epochs, description='Training classifier...'\n",
    "            )\n",
    "            display(prog)\n",
    "        \n",
    "        stats = np.zeros(self.num_epochs)        \n",
    "        for epoch_clf in range(self.num_epochs):\n",
    "            avg_loss = 0.\n",
    "            \n",
    "            for (X, y) in self.data_loader.load_batches(self.batch_size):\n",
    "                X = rbm.transform(X)\n",
    "                X_batch = Variable(torch.Tensor(X))\n",
    "                \n",
    "                y = np.argwhere(y == 1.)[:, 1]\n",
    "                y_true = Variable(torch.LongTensor(y))\n",
    "                \n",
    "                optimizer.zero_grad()\n",
    "\n",
    "                y_pred = classifier(X_batch)\n",
    "                loss = loss_function(y_pred, y_true)\n",
    "                loss.backward()\n",
    "                optimizer.step()\n",
    "\n",
    "                avg_loss += loss.data\n",
    "        \n",
    "            avg_loss /= num_batches\n",
    "            stats[epoch_clf] = avg_loss\n",
    "            \n",
    "            if self.jupyter:\n",
    "                prog.value += 1\n",
    "                \n",
    "        if self.jupyter:\n",
    "            prog.close()\n",
    "            \n",
    "        self.results[epoch][b_num] = stats\n",
    "\n",
    "classifier_results = ClassifierResults(\n",
    "    data_loader, batch_size=20, num_epochs=20, eval_freq=20, jupyter=True\n",
    ")\n",
    "inner_hooks = [classifier_results.train_classifier]\n",
    "\n",
    "rbm = RBM(num_hidden, num_visible)\n",
    "rbm, errors = train_rbm(\n",
    "    rbm, data_loader, num_epochs, batch_size, jupyter=True, inner_hooks=inner_hooks\n",
    ")\n",
    "\n",
    "# f, ax = plt.subplots(figsize=(12, 7))\n",
    "# ax.plot(range(len(errors)), errors)\n",
    "# mn, mx = ax.get_ylim()\n",
    "\n",
    "# for ep in range(0, num_batches * num_epochs, num_batches):\n",
    "#     ax.plot([ep, ep], [mn, mx], color='red', linestyle='--', alpha=0.4)\n",
    "\n",
    "# ax.set_ylim([mn, mx])\n",
    "# plt.show()\n",
    "\n",
    "        \n"
   ]
  },
  {
   "cell_type": "code",
   "execution_count": null,
   "metadata": {},
   "outputs": [],
   "source": [
    "res = classifier_results.results\n",
    "\n",
    "f, (ax1, ax2, ax3) = plt.subplots(1, 3, figsize=(12, 5))\n",
    "\n",
    "xs = range(classifier_results.num_epochs)\n",
    "ax1.plot(xs, list(res[19][0]))\n",
    "ax2.plot(xs, list(res[19][20]))\n",
    "ax3.plot(xs, list(res[19][40]))\n",
    "\n",
    "plt.show()"
   ]
  },
  {
   "cell_type": "markdown",
   "metadata": {},
   "source": [
    "# DRBM"
   ]
  },
  {
   "cell_type": "raw",
   "metadata": {
    "code_folding": [
     8
    ]
   },
   "source": [
    "num_epochs = 5\n",
    "batch_size = 20\n",
    "num_batches = int(np.ceil(X.shape[0] / batch_size))\n",
    "\n",
    "num_visible = X.shape[1]\n",
    "num_hidden = 500\n",
    "num_targets = Y.shape[1]\n",
    "\n",
    "def train_drbm(drbm, X, Y, num_epochs, batch_size, jupyter=False):\n",
    "    num_batches = int(np.ceil(X.shape[0] / batch_size))\n",
    "\n",
    "    if jupyter:\n",
    "        progress = IntProgress(value=0, max=num_batches, description='Epo=0')\n",
    "        display(progress)\n",
    "\n",
    "    mpys = []\n",
    "\n",
    "    for epoch in range(num_epochs):\n",
    "        ix = np.random.choice(X.shape[0], size=X.shape[0], replace=False)\n",
    "\n",
    "        if jupyter:\n",
    "            progress.value = 0\n",
    "            progress.description = 'Epo=%d' % epoch\n",
    "\n",
    "        for b_num in range(num_batches):\n",
    "            b = b_num * batch_size\n",
    "            e = b + batch_size\n",
    "            x = X[ix[b:e]].astype(np.float64)\n",
    "            y = Y[ix[b:e]].astype(np.float64)\n",
    "\n",
    "            _ = drbm.CD(x, y, n=1, lr=0.001)\n",
    "            \n",
    "            ps = drbm.predict_y2(x)\n",
    "            \n",
    "            ixc = np.argwhere(y == 1)\n",
    "            psc = ps[ixc[:, 0], ixc[:, 1]]\n",
    "            \n",
    "            mpys.append(psc.mean())\n",
    "            \n",
    "            if jupyter:\n",
    "                progress.value += 1\n",
    "\n",
    "    if jupyter:\n",
    "        progress.close()\n",
    "\n",
    "    return drbm, np.array(mpys)\n",
    "\n",
    "\n",
    "drbm = DRBM(num_hidden, num_visible, num_targets)\n",
    "drbm, mpys = train_drbm(drbm, X, Y, num_epochs, batch_size, jupyter=True)\n",
    "print(mpys.shape)\n",
    "\n",
    "#     ps = drbm.predict_y(X[0].reshape(1, -1))\n",
    "#     print(ps.shape)\n",
    "\n",
    "f, ax = plt.subplots(figsize=(12, 7))\n",
    "xs = range(len(mpys))\n",
    "ax.set_title('Average probability of predicting correct class')\n",
    "\n",
    "ax.plot(xs, mpys)\n",
    "mn, mx = ax.get_ylim()\n",
    "for ep in range(0, num_batches * num_epochs, num_batches)[1:]:\n",
    "    ax.plot([ep, ep], [mn, mx], color='red', linestyle='--', alpha=0.4)\n",
    "ax.set_ylim([mn, mx])\n",
    "\n",
    "plt.show()\n",
    "\n",
    "ix = np.random.choice(X.shape[0], replace=False, size=10)    \n",
    "for i in ix:\n",
    "    lp = np.round(drbm.predict_y(X[i]), 2).squeeze()\n",
    "    print(list(zip(Y[i], lp)))\n",
    "    print('')"
   ]
  }
 ],
 "metadata": {
  "kernelspec": {
   "display_name": "Python 3",
   "language": "python",
   "name": "python3"
  },
  "language_info": {
   "codemirror_mode": {
    "name": "ipython",
    "version": 3
   },
   "file_extension": ".py",
   "mimetype": "text/x-python",
   "name": "python",
   "nbconvert_exporter": "python",
   "pygments_lexer": "ipython3",
   "version": "3.5.2"
  },
  "varInspector": {
   "cols": {
    "lenName": 16,
    "lenType": 16,
    "lenVar": 40
   },
   "kernels_config": {
    "python": {
     "delete_cmd_postfix": "",
     "delete_cmd_prefix": "del ",
     "library": "var_list.py",
     "varRefreshCmd": "print(var_dic_list())"
    },
    "r": {
     "delete_cmd_postfix": ") ",
     "delete_cmd_prefix": "rm(",
     "library": "var_list.r",
     "varRefreshCmd": "cat(var_dic_list()) "
    }
   },
   "types_to_exclude": [
    "module",
    "function",
    "builtin_function_or_method",
    "instance",
    "_Feature"
   ],
   "window_display": false
  }
 },
 "nbformat": 4,
 "nbformat_minor": 2
}
